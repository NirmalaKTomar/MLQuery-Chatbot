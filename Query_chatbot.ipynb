{
  "nbformat": 4,
  "nbformat_minor": 0,
  "metadata": {
    "colab": {
      "name": "Query chatbot",
      "provenance": [],
      "collapsed_sections": []
    },
    "kernelspec": {
      "name": "python3",
      "display_name": "Python 3"
    }
  },
  "cells": [
    {
      "cell_type": "markdown",
      "metadata": {
        "id": "ky3M8mNQ7vPH"
      },
      "source": [
        "Query chatbot using NLTK library"
      ]
    },
    {
      "cell_type": "code",
      "metadata": {
        "id": "4pbwe6lU8V22",
        "colab": {
          "base_uri": "https://localhost:8080/"
        },
        "outputId": "fc2efb38-81e4-4075-ad47-3309d28e1424"
      },
      "source": [
        "!pip install nltk"
      ],
      "execution_count": 1,
      "outputs": [
        {
          "output_type": "stream",
          "name": "stdout",
          "text": [
            "Looking in indexes: https://pypi.org/simple, https://us-python.pkg.dev/colab-wheels/public/simple/\n",
            "Requirement already satisfied: nltk in /usr/local/lib/python3.7/dist-packages (3.7)\n",
            "Requirement already satisfied: regex>=2021.8.3 in /usr/local/lib/python3.7/dist-packages (from nltk) (2022.6.2)\n",
            "Requirement already satisfied: click in /usr/local/lib/python3.7/dist-packages (from nltk) (7.1.2)\n",
            "Requirement already satisfied: tqdm in /usr/local/lib/python3.7/dist-packages (from nltk) (4.64.0)\n",
            "Requirement already satisfied: joblib in /usr/local/lib/python3.7/dist-packages (from nltk) (1.1.0)\n"
          ]
        }
      ]
    },
    {
      "cell_type": "code",
      "metadata": {
        "id": "IB6ZjkRk8lyn"
      },
      "source": [
        "import nltk\n",
        "import numpy as np\n",
        "import random\n",
        "import string \n",
        "import warnings\n",
        "warnings.filterwarnings(\"ignore\")\n"
      ],
      "execution_count": 2,
      "outputs": []
    },
    {
      "cell_type": "markdown",
      "metadata": {
        "id": "5LLtxUhT925C"
      },
      "source": [
        "**DATASET :**\n"
      ]
    },
    {
      "cell_type": "code",
      "source": [
        "import requests"
      ],
      "metadata": {
        "id": "8an3z79EFDId"
      },
      "execution_count": 3,
      "outputs": []
    },
    {
      "cell_type": "code",
      "metadata": {
        "id": "fc9Q5yOhXno8",
        "colab": {
          "base_uri": "https://localhost:8080/"
        },
        "outputId": "346e9551-8229-426a-e269-bdf71e6374d4"
      },
      "source": [
        "#reading the text file\n",
        " # the lib that handles the url stuff\n",
        "\n",
        "data = \"https://raw.githubusercontent.com/NirmalaKTomar/MLQuery-Chatbot/main/ml.txt\" # it's a file like object and works just like a file\n",
        "r = requests.get(data, allow_redirects=True)\n",
        "open('data_file','wb').write(r.content)\n",
        "f=open('data_file','r',errors = 'ignore')\n",
        "raw=f.read()\n",
        "#convert to lowercase\n",
        "raw = raw.lower()\n",
        "print(raw)"
      ],
      "execution_count": 4,
      "outputs": [
        {
          "output_type": "stream",
          "name": "stdout",
          "text": [
            "machine learning (ml) is the study of computer algorithms that improve automatically through experience.[1] it is seen as a subset of artificial intelligence. machine learning algorithms build a mathematical model based on sample data, known as \"training data\", in order to make predictions or decisions without being explicitly programmed to do so.[2][3]:2 machine learning algorithms are used in a wide variety of applications, such as email filtering and computer vision, where it is difficult or infeasible to develop conventional algorithms to perform the needed tasks.\n",
            "\n",
            "machine learning is closely related to computational statistics, which focuses on making predictions using computers. the study of mathematical optimization delivers methods, theory and application domains to the field of machine learning. data mining is a related field of study, focusing on exploratory data analysis through unsupervised learning.[4][5] in its application across business problems, machine learning is also referred to as predictive analytics. \n",
            "machine learning involves computers discovering how they can perform tasks without being explicitly programmed to do so. for early tasks that humans assigned to computers, it was possible to create algorithms telling the machine how to execute all needed steps to solve the problem in hand. so on the computer's part, no learning was needed. for more advanced tasks, it can be challenging for a human to manually create the needed algorithms. in practice, it can turn out to be more effective to help the machine develop its own algorithm, rather than have human programmers specify every needed step.[6][7]\n",
            "\n",
            "the discipline of machine learning employs various approaches to help computers learn to accomplish tasks for which no fully satisfactory algorithm exists. for example, for cases where vast numbers of potential answers exist, some of the correct ones can be labelled as valid, and this can be used as training data for the computer to improve the algorithm(s) it uses to determine correct answers.[6][7] \n",
            "early classifications for machine learning approaches sometimes divided them into three broad categories, depending on the nature of the \"signal\" or \"feedback\" available to the learning system. these were:\n",
            "supervised learning: the computer is presented with example inputs and their desired outputs, given by a \"teacher\", and the goal is to learn a general rule that maps inputs to outputs.\n",
            "unsupervised learning: no labels are given to the learning algorithm, leaving it on its own to find structure in its input. unsupervised learning can be a goal in itself (discovering hidden patterns in data) or a means towards an end (feature learning).\n",
            "reinforcement learning: a computer program interacts with a dynamic environment in which it must perform a certain goal (such as driving a vehicle or playing a game against an opponent) as it navigates its problem space, the program is provided feedback that's analogous to rewards, which it tries to maximise. [3]\n",
            "\n",
            "other approaches or processes have since developed that don't fit neatly into this three-fold categorisation, and sometimes more than one is used by the same machine learning system. for example topic modeling, dimensionality reduction or meta learning. [8] as of 2020, deep learning had become the dominant approach for much ongoing work in the field of machine learning . [6] \n",
            "supervised learning algorithms build a mathematical model of a set of data that contains both the inputs and the desired outputs.[27] the data is known as training data, and consists of a set of training examples. each training example has one or more inputs and the desired output, also known as a supervisory signal. in the mathematical model, each training example is represented by an array or vector, sometimes called a feature vector, and the training data is represented by a matrix. through iterative optimization of an objective function, supervised learning algorithms learn a function that can be used to predict the output associated with new inputs.[28] an optimal function will allow the algorithm to correctly determine the output for inputs that were not a part of the training data. an algorithm that improves the accuracy of its outputs or predictions over time is said to have learned to perform that task.[14]\n",
            "\n",
            "types of supervised learning algorithms include active learning , classification and regression.[29] \n",
            "he term machine learning was coined in 1959 by arthur samuel, an american ibmer and pioneer in the field of computer gaming and artificial intelligence. [9][10] a representative book of the machine learning research during the 1960s was the nilsson's book on learning machines, dealing mostly with machine learning for pattern classification.[11] interest related to pattern recognition continued into the 1970s, as described by duda and hart in 1973. [12] in 1981 a report was given on using teaching strategies so that a neural network learns to recognize 40 characters (26 letters, 10 digits, and 4 special symbols) from a computer terminal. [13]\n",
            "\n",
            "tom m. mitchell provided a widely quoted, more formal definition of the algorithms studied in the machine learning field: \"a computer program is said to learn from experience e with respect to some class of tasks t and performance measure p if its performance at tasks in t, as measured by p, improves with experience e.\"[14] this definition of the tasks in which machine learning is concerned offers a fundamentally operational definition rather than defining the field in cognitive terms. this follows alan turing's proposal in his paper \"computing machinery and intelligence\", in which the question \"can machines think?\" is replaced with the question \"can machines do what we (as thinking entities) can do?\".[15] classification algorithms are used when the outputs are restricted to a limited set of values, and regression algorithms are used when the outputs may have any numerical value within a range. as an example, for a classification algorithm that filters emails, the input would be an incoming email, and the output would be the name of the folder in which to file the email.\n",
            "similarity learning is an area of supervised machine learning closely related to regression and classification, but the goal is to learn from examples using a similarity function that measures how similar or related two objects are. it has applications in ranking, recommendation systems, visual identity tracking, face verification, and speaker verification. \n",
            "unsupervised learning algorithms take a set of data that contains only inputs, and find structure in the data, like grouping or clustering of data points. the algorithms, therefore, learn from test data that has not been labeled, classified or categorized. instead of responding to feedback, unsupervised learning algorithms identify commonalities in the data and react based on the presence or absence of such commonalities in each new piece of data. a central application of unsupervised learning is in the field of density estimation in statistics, such as finding the probability density function.[30] though unsupervised learning encompasses other domains involving summarizing and explaining data features.\n",
            "as a scientific endeavor, machine learning grew out of the quest for artificial intelligence. in the early days of ai as an academic discipline, some researchers were interested in having machines learn from data. they attempted to approach the problem with various symbolic methods, as well as what were then termed \"neural networks\"; these were mostly perceptrons and other models that were later found to be reinventions of the generalized linear models of statistics.[16] probabilistic reasoning was also employed, especially in automated medical diagnosis.[17]:488\n",
            "machine learning and data mining often employ the same methods and overlap significantly, but while machine learning focuses on prediction, based on known properties learned from the training data, data mining focuses on the discovery of (previously) unknown properties in the data (this is the analysis step of knowledge discovery in databases). data mining uses many machine learning methods, but with different goals; on the other hand, machine learning also employs data mining methods as \"unsupervised learning\" or as a preprocessing step to improve learner accuracy. much of the confusion between these two research communities (which do often have separate conferences and separate journals, ecml pkdd being a major exception) comes from the basic assumptions they work with: in machine learning, performance is usually evaluated with respect to the ability to reproduce known knowledge, while in knowledge discovery and data mining (kdd) the key task is the discovery of previously unknown knowledge. evaluated with respect to known knowledge, an uninformed (unsupervised) method will easily be outperformed by other supervised methods, while in a typical kdd task, supervised methods cannot be used due to the unavailability of training data. \n",
            "\n",
            "however, an increasing emphasis on the logical, knowledge-based approach caused a rift between ai and machine learning. probabilistic systems were plagued by theoretical and practical problems of data acquisition and representation.[17]:488 by 1980, expert systems had come to dominate ai, and statistics was out of favor.[18] work on symbolic/knowledge-based learning did continue within ai, leading to inductive logic programming, but the more statistical line of research was now outside the field of ai proper, in pattern recognition and information retrieval.[17]:708710; 755 neural networks research had been abandoned by ai and computer science around the same time. this line, too, was continued outside the ai/cs field, as \"connectionism\", by researchers from other disciplines including hopfield, rumelhart and hinton. their main success came in the mid-1980s with the reinvention of backpropagation.[17]:25\n",
            "\n",
            "machine learning, reorganized as a separate field, started to flourish in the 1990s. the field changed its goal from achieving artificial intelligence to tackling solvable problems of a practical nature. it shifted focus away from the symbolic approaches it had inherited from ai, and toward methods and models borrowed from statistics and probability theory.[18] as of 2019, many sources continue to assert that machine learning remains a sub field of ai. yet some practitioners, for example dr daniel hulme, who both teaches ai and runs a company operating in the field, argues that machine learning and ai are separate. [7][19][6] \n",
            "\n",
            "cluster analysis is the assignment of a set of observations into subsets (called clusters) so that observations within the same cluster are similar according to one or more predesignated criteria, while observations drawn from different clusters are dissimilar. different clustering techniques make different assumptions on the structure of the data, often defined by some similarity metric and evaluated, for example, by internal compactness, or the similarity between members of the same cluster, and separation, the difference between clusters. other methods are based on estimated density and graph connectivity. \n",
            "reinforcement learning is an area of machine learning concerned with how software agents ought to take actions in an environment so as to maximize some notion of cumulative reward. due to its generality, the field is studied in many other disciplines, such as game theory, control theory, operations research, information theory, simulation-based optimization, multi-agent systems, swarm intelligence, statistics and genetic algorithms. in machine learning, the environment is typically represented as a markov decision process (mdp). many reinforcement learning algorithms use dynamic programming techniques.[32] reinforcement learning algorithms do not assume knowledge of an exact mathematical model of the mdp, and are used when exact models are infeasible. reinforcement learning algorithms are used in autonomous vehicles or in learning to play a game against a human opponent. \n",
            "performing machine learning involves creating a model, which is trained on some training data and then can process additional data to make predictions. various types of models have been used and researched for machine learning systems. \n",
            "artificial neural networks (anns), or connectionist systems, are computing systems vaguely inspired by the biological neural networks that constitute animal brains. such systems \"learn\" to perform tasks by considering examples, generally without being programmed with any task-specific rules.\n",
            "\n",
            "an ann is a model based on a collection of connected units or nodes called \"artificial neurons\", which loosely model the neurons in a biological brain. each connection, like the synapses in a biological brain, can transmit information, a \"signal\", from one artificial neuron to another. an artificial neuron that receives a signal can process it and then signal additional artificial neurons connected to it. in common ann implementations, the signal at a connection between artificial neurons is a real number, and the output of each artificial neuron is computed by some non-linear function of the sum of its inputs. the connections between artificial neurons are called \"edges\". artificial neurons and edges typically have a weight that adjusts as learning proceeds. the weight increases or decreases the strength of the signal at a connection. artificial neurons may have a threshold such that the signal is only sent if the aggregate signal crosses that threshold. typically, artificial neurons are aggregated into layers. different layers may perform different kinds of transformations on their inputs. signals travel from the first layer (the input layer) to the last layer (the output layer), possibly after traversing the layers multiple times.\n",
            "\n",
            "the original goal of the ann approach was to solve problems in the same way that a human brain would. however, over time, attention moved to performing specific tasks, leading to deviations from biology. artificial neural networks have been used on a variety of tasks, including computer vision, speech recognition, machine translation, social network filtering, playing board and video games and medical diagnosis.\n",
            "n 2006, the media-services provider netflix held the first \"netflix prize\" competition to find a program to better predict user preferences and improve the accuracy on its existing cinematch movie recommendation algorithm by at least 10%. a joint team made up of researchers from at&t labs-research in collaboration with the teams big chaos and pragmatic theory built an ensemble model to win the grand prize in 2009 for $1 million.[65] shortly after the prize was awarded, netflix realized that viewers' ratings were not the best indicators of their viewing patterns (\"everything is a recommendation\") and they changed their recommendation engine accordingly.[66] in 2010 the wall street journal wrote about the firm rebellion research and their use of machine learning to predict the financial crisis.[67] in 2012, co-founder of sun microsystems, vinod khosla, predicted that 80% of medical doctors' jobs would be lost in the next two decades to automated machine learning medical diagnostic software.[68] in 2014, it was reported that a machine learning algorithm had been applied in the field of art history to study fine art paintings, and that it may have revealed previously unrecognized influences among artists.[69] in 2019 springer nature published the first research book created using machine learning.[70]\n",
            "deep learning consists of multiple hidden layers in an artificial neural network. this approach tries to model the way the human brain processes light and sound into vision and hearing. some successful applications of deep learning are computer vision and speech recognition.[57] \n",
            "decision tree learning uses a decision tree as a predictive model to go from observations about an item (represented in the branches) to conclusions about the item's target value (represented in the leaves). it is one of the predictive modeling approaches used in statistics, data mining and machine learning. tree models where the target variable can take a discrete set of values are called classification trees; in these tree structures, leaves represent class labels and branches represent conjunctions of features that lead to those class labels. decision trees where the target variable can take continuous values (typically real numbers) are called regression trees. in decision analysis, a decision tree can be used to visually and explicitly represent decisions and decision making. in data mining, a decision tree describes data, but the resulting classification tree can be an input for decision making. \n",
            "support vector machines (svms), also known as support vector networks, are a set of related supervised learning methods used for classification and regression. given a set of training examples, each marked as belonging to one of two categories, an svm training algorithm builds a model that predicts whether a new example falls into one category or the other.[58] an svm training algorithm is a non-probabilistic, binary, linear classifier, although methods such as platt scaling exist to use svm in a probabilistic classification setting. in addition to performing linear classification, svms can efficiently perform a non-linear classification using what is called the kernel trick, implicitly mapping their inputs into high-dimensional feature spaces. \n",
            "regression analysis encompasses a large variety of statistical methods to estimate the relationship between input variables and their associated features. its most common form is linear regression, where a single line is drawn to best fit the given data according to a mathematical criterion such as ordinary least squares. the latter is often extended by regularization (mathematics) methods to mitigate overfitting and bias, as in ridge regression. when dealing with non-linear problems, go-to models include polynomial regression (for example, used for trendline fitting in microsoft excel [59]), logistic regression (often used in statistical classification) or even kernel regression, which introduces non-linearity by taking advantage of the kernel trick to implicitly map input variables to higher dimensional space. \n",
            "a genetic algorithm (ga) is a search algorithm and heuristic technique that mimics the process of natural selection, using methods such as mutation and crossover to generate new genotypes in the hope of finding good solutions to a given problem. in machine learning, genetic algorithms were used in the 1980s and 1990s.[60][61] conversely, machine learning techniques have been used to improve the performance of genetic and evolutionary algorithms.[62]\n",
            "machine learning approaches in particular can suffer from different data biases. a machine learning system trained on current customers only may not be able to predict the needs of new customer groups that are not represented in the training data. when trained on man-made data, machine learning is likely to pick up the same constitutional and unconscious biases already present in society.[78] language models learned from data have been shown to contain human-like biases.[79][80] machine learning systems used for criminal risk assessment have been found to be biased against black people.[81][82] in 2015, google photos would often tag black people as gorillas,[83] and in 2018 this still was not well resolved, but google reportedly was still using the workaround to remove all gorillas from the training data, and thus was not able to recognize real gorillas at all.[84] similar issues with recognizing non-white people have been found in many other systems.[85] in 2016, microsoft tested a chatbot that learned from twitter, and it quickly picked up racist and sexist language.[86] because of such challenges, the effective use of machine learning may take longer to be adopted in other domains.[87] concern for fairness in machine learning, that is, reducing bias in machine learning and propelling its use for human good is increasingly expressed by artificial intelligence scientists, including fei-fei li, who reminds engineers that \"theres nothing artificial about ai...its inspired by people, its created by people, andmost importantlyit impacts people. it is a powerful tool we are only just beginning to understand, and that is a profound responsibility.[88]\n",
            "classification machine learning models can be validated by accuracy estimation techniques like the holdout method, which splits the data in a training and test set (conventionally 2/3 training set and 1/3 test set designation) and evaluates the performance of the training model on the test set. in comparison, the k-fold-cross-validation method randomly partitions the data into k subsets and then k experiments are performed each respectively considering 1 subset for evaluation and the remaining k-1 subsets for training the model. in addition to the holdout and cross-validation methods, bootstrap, which samples n instances with replacement from the dataset, can be used to assess model accuracy.[89]\n",
            "in addition to overall accuracy, investigators frequently report sensitivity and specificity meaning true positive rate (tpr) and true negative rate (tnr) respectively. similarly, investigators sometimes report the false positive rate (fpr) as well as the false negative rate (fnr). however, these rates are ratios that fail to reveal their numerators and denominators. the total operating characteristic (toc) is an effective method to express a model's diagnostic ability. toc shows the numerators and denominators of the previously mentioned rates, thus toc provides more information than the commonly used receiver operating characteristic (roc) and roc's associated area under the curve (auc).[90] \n"
          ]
        }
      ]
    },
    {
      "cell_type": "markdown",
      "metadata": {
        "id": "yeZqjwuy-uh0"
      },
      "source": [
        "**Data Preprocessing :**\n",
        "\n",
        "\n",
        "**Tokenization**: Tokenization is just the term used to describe the process of converting the normal text strings into a list of tokens i.e words that we actually want. Sentence tokenizer can be used to find the list of sentences and Word tokenizer can be used to find the list of words in strings.\n",
        "\n",
        "**Stopping**: Removing the Stop words. Sometimes, some extremely common words which would appear to be of little value in helping select documents matching a user need are excluded from the vocabulary entirely. These words are called stop words\n",
        "\n",
        "**Stemming**: Stemming is the process of reducing inflected (or sometimes derived) words to their stem, base or root form — generally a written word form. Example if we were to stem the following words: “Stems”, “Stemming”, “Stemmed”, “and Stemtization”, the result would be a single word “stem”.\n",
        "\n",
        "**Lemmatization**: A slight variant of stemming is lemmatization. The major difference between these is, that, stemming can often create non-existent words, whereas lemmas are actual words. So, your root stem, meaning the word you end up with, is not something you can just look up in a dictionary, but you can look up a lemma. Examples of Lemmatization are that “run” is a base form for words like “running” or “ran” or that the word “better” and “good” are in the same lemma so they are considered the same.\n",
        "\n",
        "**The NLTK data package includes a pre-trained Punkt tokenizer for English.**\n",
        "\n",
        "**WordNet is a semantically-oriented dictionary of English included in NLTK.**"
      ]
    },
    {
      "cell_type": "code",
      "metadata": {
        "id": "GDCwwpRi-ge8",
        "colab": {
          "base_uri": "https://localhost:8080/"
        },
        "outputId": "469d7969-fc80-4c12-c415-7f47603c6f17"
      },
      "source": [
        "nltk.download('punkt')\n",
        "nltk.download('wordnet') \n",
        "sent_tokens = nltk.sent_tokenize(raw)\n",
        "word_tokens = nltk.word_tokenize(raw)"
      ],
      "execution_count": 5,
      "outputs": [
        {
          "output_type": "stream",
          "name": "stderr",
          "text": [
            "[nltk_data] Downloading package punkt to /root/nltk_data...\n",
            "[nltk_data]   Unzipping tokenizers/punkt.zip.\n",
            "[nltk_data] Downloading package wordnet to /root/nltk_data...\n",
            "[nltk_data]   Unzipping corpora/wordnet.zip.\n"
          ]
        }
      ]
    },
    {
      "cell_type": "code",
      "metadata": {
        "id": "lHQk2WsEYv5d",
        "colab": {
          "base_uri": "https://localhost:8080/"
        },
        "outputId": "9095dd46-856a-4e56-ce2c-f886f1ff1161"
      },
      "source": [
        "#sent_tokens is converting the data into a list of sentences\n",
        "print(len(sent_tokens))\n",
        "print(sent_tokens[:10])"
      ],
      "execution_count": 6,
      "outputs": [
        {
          "output_type": "stream",
          "name": "stdout",
          "text": [
            "141\n",
            "['machine learning (ml) is the study of computer algorithms that improve automatically through experience.', '[1] it is seen as a subset of artificial intelligence.', 'machine learning algorithms build a mathematical model based on sample data, known as \"training data\", in order to make predictions or decisions without being explicitly programmed to do so.', '[2][3]:2 machine learning algorithms are used in a wide variety of applications, such as email filtering and computer vision, where it is difficult or infeasible to develop conventional algorithms to perform the needed tasks.', 'machine learning is closely related to computational statistics, which focuses on making predictions using computers.', 'the study of mathematical optimization delivers methods, theory and application domains to the field of machine learning.', 'data mining is a related field of study, focusing on exploratory data analysis through unsupervised learning.', '[4][5] in its application across business problems, machine learning is also referred to as predictive analytics.', 'machine learning involves computers discovering how they can perform tasks without being explicitly programmed to do so.', 'for early tasks that humans assigned to computers, it was possible to create algorithms telling the machine how to execute all needed steps to solve the problem in hand.']\n"
          ]
        }
      ]
    },
    {
      "cell_type": "code",
      "metadata": {
        "id": "xtBSq0es_qjf",
        "colab": {
          "base_uri": "https://localhost:8080/"
        },
        "outputId": "be5075ad-bb61-4931-eaf6-6c653e88faad"
      },
      "source": [
        "#word_tokens is converting the sentences into the tokens\n",
        "print(len(word_tokens))\n",
        "print(word_tokens[:20])"
      ],
      "execution_count": 7,
      "outputs": [
        {
          "output_type": "stream",
          "name": "stdout",
          "text": [
            "3944\n",
            "['machine', 'learning', '(', 'ml', ')', 'is', 'the', 'study', 'of', 'computer', 'algorithms', 'that', 'improve', 'automatically', 'through', 'experience', '.', '[', '1', ']']\n"
          ]
        }
      ]
    },
    {
      "cell_type": "code",
      "metadata": {
        "id": "Ud_CnDgCZnXa",
        "colab": {
          "base_uri": "https://localhost:8080/"
        },
        "outputId": "11ef50b0-e7b6-4018-affe-8fe92bf24116"
      },
      "source": [
        "#these are the preprocessing functions to return the normalized tokens\n",
        "\n",
        "lemmer = nltk.stem.WordNetLemmatizer()\n",
        "\n",
        "def LemTokens(tokens):\n",
        "    return [lemmer.lemmatize(token) for token in tokens]\n",
        "remove_punct_dict = dict((ord(punct), None) for punct in string.punctuation)\n",
        "\n",
        "def LemNormalize(text):\n",
        "    return LemTokens(nltk.word_tokenize(text.lower().translate(remove_punct_dict)))\n",
        "\n",
        "print(string.punctuation)"
      ],
      "execution_count": 8,
      "outputs": [
        {
          "output_type": "stream",
          "name": "stdout",
          "text": [
            "!\"#$%&'()*+,-./:;<=>?@[\\]^_`{|}~\n"
          ]
        }
      ]
    },
    {
      "cell_type": "code",
      "metadata": {
        "id": "3RUaoG6cbZqM"
      },
      "source": [
        "#some keywords for the greeting responses\n",
        "GREETING_INPUTS = (\"hello\", \"hi\", \"greetings\", \"sup\", \"what's up\",\"hey\")\n",
        "GREETING_RESPONSES = [\"hi\", \"hey\", \"*nods*\", \"hi there\", \"hello\", \"I am glad! You are talking to me\"]\n",
        "def greeting(sentence):\n",
        " \n",
        "    for word in sentence.split():\n",
        "        if word.lower() in GREETING_INPUTS:\n",
        "            return random.choice(GREETING_RESPONSES)"
      ],
      "execution_count": 9,
      "outputs": []
    },
    {
      "cell_type": "markdown",
      "metadata": {
        "id": "l4Z3X0ZGAspk"
      },
      "source": [
        "**Bag of Words**\n",
        "\n",
        "After the initial preprocessing phase,it is needed to transform the text into a meaningful vector (or array) of numbers. The bag-of-words is a representation of text that describes the occurrence of words within a document. It involves two things:\n",
        "\n",
        "•A vocabulary of known words.\n",
        "\n",
        "•A measure of the presence of known words.\n",
        "\n",
        "Why is it is called a “bag” of words? That is because any information about the order or structure of words in the document is discarded and the model is only concerned with whether the known words occur in the document, not where they occur in the document.\n",
        "\n",
        "The intuition behind the Bag of Words is that documents are similar if they have similar content. Also, it can learn something about the meaning of the document from its content alone.\n",
        "\n",
        "**For example, if our dictionary contains the words {Learning, is, the, not, great}, and to vectorize the text “Learning is great”, vector be: (1, 1, 0, 0, 1).**\n",
        "\n",
        "**THE MAIN ALGORITHM**\n",
        "\n",
        "**TF-IDF Approach**\n",
        "\n",
        "A problem with the Bag of Words approach is that highly frequent words start to dominate in the document (e.g. larger score), but may not contain as much “informational content”. Also, it will give more weight to longer documents than shorter documents.\n",
        "\n",
        "One approach is to rescale the frequency of words by how often they appear in all documents so that the scores for frequent words like “the” that are also frequent across all documents are penalized. This approach to scoring is called Term Frequency-Inverse Document Frequency, or TF-IDF for short, where:\n",
        "\n",
        "**Term Frequency**: is a scoring of the frequency of the word in the current document.\n",
        "\n",
        "**TF = (Number of times term t appears in a document)/(Number of terms in the document)**\n",
        "\n",
        "**Inverse Document Frequency**: is a scoring of how rare the word is across documents.\n",
        "\n",
        "**IDF = 1+log(N/n), where, N is the number of documents and n is the number of documents a term t has appeared in.**\n",
        "\n",
        "Tf-IDF weight is a weight often used in information retrieval and text mining. This weight is a statistical measure used to evaluate how important a word is to a document in a collection or corpus\n",
        "\n",
        "**Cosine Similarity**\n",
        "\n",
        "TF-IDF is a transformation applied to texts to get two real-valued vectors in vector space. to obtain the Cosine similarity of any pair of vectors by taking their dot product and dividing that by the product of their norms. That yields the cosine of the angle between the vectors. Cosine similarity is a measure of similarity between two non-zero vectors. Using this formula it finds out the similarity between any two documents d1 and d2.\n",
        "\n",
        "Cosine Similarity (d1, d2) =  Dot product(d1, d2) / ||d1|| * ||d2||\n",
        "\n",
        "implementation of these functions shown below-"
      ]
    },
    {
      "cell_type": "code",
      "metadata": {
        "id": "ae7IBZdtbhzJ"
      },
      "source": [
        "from sklearn.feature_extraction.text import TfidfVectorizer\n",
        "from sklearn.metrics.pairwise import cosine_similarity"
      ],
      "execution_count": 10,
      "outputs": []
    },
    {
      "cell_type": "code",
      "metadata": {
        "id": "bAF65Vz4bppt"
      },
      "source": [
        "#This is the main function that takes the user question and generates the chatbot response\n",
        "def response(user_response):\n",
        "    robo_response=''\n",
        "    sent_tokens.append(user_response)\n",
        "    #initialize the model for tf-idf\n",
        "    #inputs: Normalized tokens\n",
        "    #output : bag of words    \n",
        "    TfidfVec = TfidfVectorizer(tokenizer=LemNormalize, stop_words='english')\n",
        "    tfidf = TfidfVec.fit_transform(sent_tokens)\n",
        "    #find the cosine similarity of the user response with every other sentence in corpus\n",
        "    vals = cosine_similarity(tfidf[-1], tfidf)\n",
        "    idx=vals.argsort()[0]\n",
        "    #choose the best response\n",
        "    i = -2\n",
        "    while len(sent_tokens[idx[i]].split())<8:\n",
        "      i-=1\n",
        "    flat = vals.flatten()\n",
        "    flat.sort()\n",
        "    req_tfidf = flat[i]    \n",
        "    if(req_tfidf==0):\n",
        "        robo_response=robo_response+\"I am sorry! I don't understand you\"\n",
        "        return robo_response\n",
        "    else:\n",
        "        robo_response = robo_response+sent_tokens[idx[i]]\n",
        "        return robo_response"
      ],
      "execution_count": 11,
      "outputs": []
    },
    {
      "cell_type": "code",
      "source": [
        ""
      ],
      "metadata": {
        "id": "k7eCdoO_GWif"
      },
      "execution_count": 11,
      "outputs": []
    },
    {
      "cell_type": "code",
      "source": [
        "import nltk\n",
        "nltk.download('omw-1.4')\n"
      ],
      "metadata": {
        "colab": {
          "base_uri": "https://localhost:8080/"
        },
        "id": "aKzmPdDhGWVw",
        "outputId": "52cbbd74-4d5e-4a97-db19-0d58882ccbe4"
      },
      "execution_count": 12,
      "outputs": [
        {
          "output_type": "stream",
          "name": "stderr",
          "text": [
            "[nltk_data] Downloading package omw-1.4 to /root/nltk_data...\n",
            "[nltk_data]   Unzipping corpora/omw-1.4.zip.\n"
          ]
        },
        {
          "output_type": "execute_result",
          "data": {
            "text/plain": [
              "True"
            ]
          },
          "metadata": {},
          "execution_count": 12
        }
      ]
    },
    {
      "cell_type": "code",
      "metadata": {
        "id": "IkH0gQqBbwYq",
        "colab": {
          "base_uri": "https://localhost:8080/"
        },
        "outputId": "edbc34cd-d3b3-45f6-f702-3a541ff47799"
      },
      "source": [
        "#the function that inputs the user response and output the chatbot response\n",
        "flag=True\n",
        "print(\"ROBO: My name is Robo. I will answer your queries about Machine learning. If you want to exit, type Bye!\")\n",
        "while(flag==True):\n",
        "    user_response = input()\n",
        "    user_response=user_response.lower()\n",
        "    if(user_response!='bye'):\n",
        "        if(user_response=='thanks' or user_response=='thank you' ):\n",
        "            flag=False\n",
        "            print(\"ROBO: You are welcome..\")\n",
        "        else:\n",
        "            if(greeting(user_response)!=None):\n",
        "                print(\"ROBO: \"+greeting(user_response))\n",
        "            else:\n",
        "                print(\"ROBO: \",end=\"\")\n",
        "                st = response(user_response)\n",
        "                if st[0]=='[':\n",
        "                  i=0\n",
        "                  while st[i]!=']':\n",
        "                    i+=1\n",
        "                  print(st[i+1:])\n",
        "                else:\n",
        "                  print(st)\n",
        "                sent_tokens.remove(user_response)\n",
        "    else:\n",
        "        flag=False\n",
        "        print(\"ROBO: Bye! take care..\")"
      ],
      "execution_count": 13,
      "outputs": [
        {
          "output_type": "stream",
          "name": "stdout",
          "text": [
            "ROBO: My name is Robo. I will answer your queries about Machine learning. If you want to exit, type Bye!\n",
            "hey\n",
            "ROBO: I am glad! You are talking to me\n",
            "what is machine learning\n",
            "ROBO: [10] a representative book of the machine learning research during the 1960s was the nilsson's book on learning machines, dealing mostly with machine learning for pattern classification.\n",
            "now tell me about svm\n",
            "ROBO:  an svm training algorithm is a non-probabilistic, binary, linear classifier, although methods such as platt scaling exist to use svm in a probabilistic classification setting.\n",
            "supervised learning types\n",
            "ROBO: \n",
            "\n",
            "types of supervised learning algorithms include active learning , classification and regression.\n",
            "hksdd\n",
            "ROBO: I am sorry! I don't understand you\n",
            "bye\n",
            "ROBO: Bye! take care..\n"
          ]
        }
      ]
    }
  ]
}